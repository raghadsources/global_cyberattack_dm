{
  "cells": [
    {
      "cell_type": "markdown",
      "metadata": {},
      "source": [
        "# Global Cyberattack Pattern Analysis — Data Mining (Anaconda Edition)\n",
        "\n",
        "**Notebook:** 03_preprocess_feature_engineering.ipynb  \n",
        "Create target `exploit_speed` (Fast/Medium/Slow) and build train/test splits."
      ]
    },
    {
      "cell_type": "code",
      "execution_count": null,
      "metadata": {},
      "outputs": [],
      "source": [
        "import pandas as pd, numpy as np, os\n",
        "from sklearn.model_selection import train_test_split\n",
        "from sklearn.preprocessing import OneHotEncoder\n",
        "from sklearn.compose import ColumnTransformer\n",
        "from sklearn.pipeline import Pipeline\n",
        "from sklearn.impute import SimpleImputer\n",
        "\n",
        "df = pd.read_csv(\"data/cisa_kev.csv\", parse_dates=[\"DateAdded\",\"PublishDate\",\"DueDate\"], dayfirst=False)\n",
        "\n",
        "if \"PublishDate\" in df.columns and df[\"PublishDate\"].notna().any():\n",
        "    df[\"time_to_exploit_days\"] = (df[\"DateAdded\"] - df[\"PublishDate\"]).dt.days\n",
        "elif \"DueDate\" in df.columns:\n",
        "    df[\"time_to_exploit_days\"] = (df[\"DueDate\"] - df[\"DateAdded\"]).dt.days\n",
        "else:\n",
        "    raise ValueError(\"Need PublishDate or DueDate to construct target.\")\n",
        "\n",
        "bins = [-1,30,180,10_000]; labels = [\"Fast\",\"Medium\",\"Slow\"]\n",
        "df[\"exploit_speed\"] = pd.cut(df[\"time_to_exploit_days\"], bins=bins, labels=labels)\n",
        "\n",
        "if \"DateAdded\" in df.columns:\n",
        "    df[\"year_added\"] = df[\"DateAdded\"].dt.year\n",
        "    df[\"month_added\"] = df[\"DateAdded\"].dt.month\n",
        "\n",
        "features = [c for c in [\"VendorProject\",\"Product\",\"CWE_ID\",\"year_added\",\"month_added\"] if c in df.columns]\n",
        "mask = df[\"exploit_speed\"].notna()\n",
        "X, y = df.loc[mask, features], df.loc[mask, \"exploit_speed\"]\n",
        "\n",
        "cat_cols = [c for c in X.columns if X[c].dtype == \"object\"]\n",
        "num_cols = [c for c in X.columns if c not in cat_cols]\n",
        "\n",
        "preprocess = ColumnTransformer([\n",
        "    (\"cat\", Pipeline([(\"imp\", SimpleImputer(strategy=\"most_frequent\")),\n",
        "                      (\"oh\", OneHotEncoder(handle_unknown=\"ignore\"))]), cat_cols),\n",
        "    (\"num\", Pipeline([(\"imp\", SimpleImputer(strategy=\"median\"))]), num_cols)\n",
        "])\n",
        "\n",
        "X_train, X_test, y_train, y_test = train_test_split(X, y, test_size=0.2, stratify=y, random_state=42)\n",
        "\n",
        "# Save minimal artifacts for reuse\n",
        "import joblib, pathlib\n",
        "art_dir = pathlib.Path(\"reports/metrics\"); art_dir.mkdir(parents=True, exist_ok=True)\n",
        "joblib.dump({\"features\":features,\"cat_cols\":cat_cols,\"num_cols\":num_cols}, \"reports/metrics/feature_meta.joblib\")\n",
        "joblib.dump({\"X_train\":X_train,\"X_test\":X_test,\"y_train\":y_train,\"y_test\":y_test}, \"reports/metrics/splits.joblib\")\n",
        "print(\"Prepared splits and metadata.\")"
      ]
    }
  ],
  "metadata": {
    "kernelspec": {
      "display_name": "Python 3",
      "language": "python",
      "name": "python3"
    },
    "language_info": {
      "name": "python"
    }
  },
  "nbformat": 4,
  "nbformat_minor": 5
}