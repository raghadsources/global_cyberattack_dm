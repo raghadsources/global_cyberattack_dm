{
  "cells": [
    {
      "cell_type": "markdown",
      "metadata": {},
      "source": [
        "# Global Cyberattack Pattern Analysis — Data Mining (Anaconda Edition)\n",
        "\n",
        "**Notebook:** 01_load_data.ipynb  \n",
        "**Updated:** 2025-10-16 17:16\n",
        "\n",
        "This loads the CISA KEV dataset (CSV) from `data/cisa_kev.csv` and inspects basic info."
      ]
    },
    {
      "cell_type": "code",
      "execution_count": null,
      "metadata": {},
      "outputs": [],
      "source": [
        "import pandas as pd, os\n",
        "DATA = os.path.join(\"data\",\"cisa_kev.csv\")\n",
        "assert os.path.exists(DATA), \"Place your dataset at data/cisa_kev.csv (or change the path).\"\n",
        "df = pd.read_csv(DATA)\n",
        "print(\"Shape:\", df.shape)\n",
        "df.head()"
      ]
    }
  ],
  "metadata": {
    "kernelspec": {
      "display_name": "Python 3",
      "language": "python",
      "name": "python3"
    },
    "language_info": {
      "name": "python"
    }
  },
  "nbformat": 4,
  "nbformat_minor": 5
}