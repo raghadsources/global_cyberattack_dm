{
  "cells": [
    {
      "cell_type": "markdown",
      "metadata": {},
      "source": [
        "# Global Cyberattack Pattern Analysis — Data Mining (Anaconda Edition)\n",
        "\n",
        "**Notebook:** 05_unsupervised_clustering.ipynb — KMeans + PCA visualization"
      ]
    },
    {
      "cell_type": "code",
      "execution_count": null,
      "metadata": {},
      "outputs": [],
      "source": [
        "import pandas as pd, matplotlib.pyplot as plt, os\n",
        "from sklearn.cluster import KMeans\n",
        "from sklearn.decomposition import PCA\n",
        "from sklearn.metrics import silhouette_score\n",
        "from sklearn.compose import ColumnTransformer\n",
        "from sklearn.preprocessing import OneHotEncoder\n",
        "from sklearn.impute import SimpleImputer\n",
        "from sklearn.pipeline import Pipeline\n",
        "\n",
        "os.makedirs(\"reports/unsupervised\", exist_ok=True)\n",
        "\n",
        "df = pd.read_csv(\"data/cisa_kev.csv\", parse_dates=[\"DateAdded\"], dayfirst=False)\n",
        "if \"DateAdded\" in df.columns:\n",
        "    df[\"year_added\"] = df[\"DateAdded\"].dt.year\n",
        "    df[\"month_added\"] = df[\"DateAdded\"].dt.month\n",
        "\n",
        "features = [c for c in [\"VendorProject\",\"Product\",\"CWE_ID\",\"year_added\",\"month_added\"] if c in df.columns]\n",
        "X = df[features]\n",
        "\n",
        "cat_cols = [c for c in X.columns if X[c].dtype == \"object\"]\n",
        "num_cols = [c for c in X.columns if c not in cat_cols]\n",
        "prep = ColumnTransformer([\n",
        "    (\"cat\", Pipeline([(\"imp\", SimpleImputer(strategy=\"most_frequent\")),\n",
        "                      (\"oh\", OneHotEncoder(handle_unknown=\"ignore\"))]), cat_cols),\n",
        "    (\"num\", Pipeline([(\"imp\", SimpleImputer(strategy=\"median\"))]), num_cols)\n",
        "])\n",
        "\n",
        "Z = prep.fit_transform(X)\n",
        "kmeans = KMeans(n_clusters=3, random_state=42, n_init=\"auto\")\n",
        "clusters = kmeans.fit_predict(Z)\n",
        "sil = silhouette_score(Z, clusters)\n",
        "print(\"Silhouette:\", sil)\n",
        "\n",
        "pca = PCA(n_components=2, random_state=42)\n",
        "Z2 = pca.fit_transform(Z.toarray() if hasattr(Z, \"toarray\") else Z)\n",
        "\n",
        "plt.figure()\n",
        "plt.scatter(Z2[:,0], Z2[:,1], c=clusters)\n",
        "plt.title(\"KMeans Clusters (PCA)\")\n",
        "plt.tight_layout()\n",
        "plt.savefig(\"reports/unsupervised/kmeans_pca.png\", dpi=200)"
      ]
    }
  ],
  "metadata": {
    "kernelspec": {
      "display_name": "Python 3",
      "language": "python",
      "name": "python3"
    },
    "language_info": {
      "name": "python"
    }
  },
  "nbformat": 4,
  "nbformat_minor": 5
}